{
 "cells": [
  {
   "attachments": {},
   "cell_type": "markdown",
   "metadata": {},
   "source": [
    "# Import the packages and modules"
   ]
  },
  {
   "cell_type": "code",
   "execution_count": 1,
   "metadata": {},
   "outputs": [],
   "source": [
    "from gym_vrp.envs import SantaIRPEnv\n",
    "from agents import IRPAgent\n",
    "\n",
    "import torch\n"
   ]
  },
  {
   "attachments": {},
   "cell_type": "markdown",
   "metadata": {},
   "source": [
    "## Train the agent"
   ]
  },
  {
   "cell_type": "code",
   "execution_count": 2,
   "metadata": {},
   "outputs": [],
   "source": [
    "# Original\n",
    "# batch_size = 256\n",
    "# seed = 69\n",
    "# num_nodes = 20\n",
    "\n",
    "# Quick Test\n",
    "# batch_size = 10\n",
    "# seed = 23\n",
    "# num_nodes = 5\n",
    "\n",
    "batch_size = 128\n",
    "seed = 23\n",
    "num_nodes = 10\n",
    "\n",
    "num_epochs = 51\n",
    "# num_epochs = 251"
   ]
  },
  {
   "cell_type": "code",
   "execution_count": 3,
   "metadata": {},
   "outputs": [
    {
     "name": "stderr",
     "output_type": "stream",
     "text": [
      "INFO:root:Start Training\n",
      "INFO:root:Update Baseline\n",
      "INFO:root:Epoch 0 finished - Loss: -3.8327949047088623, Advantage: 0.1942945420742035 Dist: -36.725738525390625\n"
     ]
    },
    {
     "name": "stdout",
     "output_type": "stream",
     "text": [
      "replacing baceline\n"
     ]
    },
    {
     "name": "stderr",
     "output_type": "stream",
     "text": [
      "INFO:root:Update Baseline\n",
      "INFO:root:Epoch 1 finished - Loss: 616.6781616210938, Advantage: -39.93315505981445 Dist: 3.391378879547119\n"
     ]
    },
    {
     "name": "stdout",
     "output_type": "stream",
     "text": [
      "replacing baceline\n"
     ]
    },
    {
     "name": "stderr",
     "output_type": "stream",
     "text": [
      "INFO:root:Update Baseline\n",
      "INFO:root:Epoch 2 finished - Loss: -302.09820556640625, Advantage: 19.89040756225586 Dist: -76.40681457519531\n",
      "INFO:root:Update Baseline\n",
      "INFO:root:Epoch 3 finished - Loss: 298.20623779296875, Advantage: -20.398225784301758 Dist: -36.29926681518555\n"
     ]
    },
    {
     "name": "stdout",
     "output_type": "stream",
     "text": [
      "replacing baceline\n"
     ]
    },
    {
     "name": "stderr",
     "output_type": "stream",
     "text": [
      "INFO:root:Update Baseline\n",
      "INFO:root:Epoch 4 finished - Loss: -1.167024850845337, Advantage: 0.04357603192329407 Dist: -36.69268798828125\n"
     ]
    },
    {
     "name": "stdout",
     "output_type": "stream",
     "text": [
      "replacing baceline\n"
     ]
    },
    {
     "name": "stderr",
     "output_type": "stream",
     "text": [
      "INFO:root:Update Baseline\n",
      "INFO:root:Epoch 5 finished - Loss: -288.4586181640625, Advantage: 19.84253692626953 Dist: -56.32020950317383\n"
     ]
    },
    {
     "name": "stdout",
     "output_type": "stream",
     "text": [
      "replacing baceline\n"
     ]
    },
    {
     "name": "stderr",
     "output_type": "stream",
     "text": [
      "INFO:root:Update Baseline\n",
      "INFO:root:Epoch 6 finished - Loss: 2.1659865379333496, Advantage: -0.23621255159378052 Dist: -56.28423309326172\n"
     ]
    },
    {
     "name": "stdout",
     "output_type": "stream",
     "text": [
      "replacing baceline\n"
     ]
    },
    {
     "name": "stderr",
     "output_type": "stream",
     "text": [
      "INFO:root:Update Baseline\n",
      "INFO:root:Epoch 7 finished - Loss: 3.0878281593322754, Advantage: -0.2669265866279602 Dist: -16.178512573242188\n",
      "INFO:root:Update Baseline\n",
      "INFO:root:Epoch 8 finished - Loss: -268.4209899902344, Advantage: 19.832008361816406 Dist: -56.241676330566406\n"
     ]
    },
    {
     "name": "stdout",
     "output_type": "stream",
     "text": [
      "replacing baceline\n"
     ]
    },
    {
     "name": "stderr",
     "output_type": "stream",
     "text": [
      "INFO:root:Update Baseline\n",
      "INFO:root:Epoch 9 finished - Loss: -809.2276611328125, Advantage: 59.880958557128906 Dist: -76.42163848876953\n"
     ]
    },
    {
     "name": "stdout",
     "output_type": "stream",
     "text": [
      "replacing baceline\n"
     ]
    },
    {
     "name": "stderr",
     "output_type": "stream",
     "text": [
      "INFO:root:Update Baseline\n",
      "INFO:root:Epoch 10 finished - Loss: 539.9562377929688, Advantage: -40.15013122558594 Dist: -36.25091552734375\n"
     ]
    },
    {
     "name": "stdout",
     "output_type": "stream",
     "text": [
      "replacing baceline\n"
     ]
    },
    {
     "name": "stderr",
     "output_type": "stream",
     "text": [
      "INFO:root:Update Baseline\n",
      "INFO:root:Epoch 11 finished - Loss: -256.72998046875, Advantage: 19.74995994567871 Dist: -76.21681213378906\n",
      "INFO:root:Update Baseline\n",
      "INFO:root:Epoch 12 finished - Loss: 519.6714477539062, Advantage: -40.25051498413086 Dist: -16.24897003173828\n"
     ]
    },
    {
     "name": "stdout",
     "output_type": "stream",
     "text": [
      "replacing baceline\n"
     ]
    },
    {
     "name": "stderr",
     "output_type": "stream",
     "text": [
      "INFO:root:Update Baseline\n",
      "INFO:root:Epoch 13 finished - Loss: 262.71160888671875, Advantage: -20.211803436279297 Dist: -56.25250244140625\n"
     ]
    },
    {
     "name": "stdout",
     "output_type": "stream",
     "text": [
      "replacing baceline\n"
     ]
    },
    {
     "name": "stderr",
     "output_type": "stream",
     "text": [
      "INFO:root:Update Baseline\n",
      "INFO:root:Epoch 14 finished - Loss: 508.1379699707031, Advantage: -40.118690490722656 Dist: 3.6969516277313232\n",
      "INFO:root:Update Baseline\n",
      "INFO:root:Epoch 15 finished - Loss: -250.14932250976562, Advantage: 19.879484176635742 Dist: -56.515228271484375\n",
      "INFO:root:Update Baseline\n",
      "INFO:root:Epoch 16 finished - Loss: 257.0494384765625, Advantage: -20.257041931152344 Dist: -36.3148078918457\n"
     ]
    },
    {
     "name": "stdout",
     "output_type": "stream",
     "text": [
      "replacing baceline\n"
     ]
    },
    {
     "name": "stderr",
     "output_type": "stream",
     "text": [
      "INFO:root:Update Baseline\n",
      "INFO:root:Epoch 17 finished - Loss: -1.5667755603790283, Advantage: 0.10391822457313538 Dist: -36.23090362548828\n",
      "INFO:root:Update Baseline\n",
      "INFO:root:Epoch 18 finished - Loss: -0.650256335735321, Advantage: 0.0468195378780365 Dist: -36.29993438720703\n",
      "INFO:root:Update Baseline\n",
      "INFO:root:Epoch 19 finished - Loss: -489.4180908203125, Advantage: 39.94820785522461 Dist: -76.29368591308594\n",
      "INFO:root:Update Baseline\n",
      "INFO:root:Epoch 20 finished - Loss: 490.6572265625, Advantage: -39.88027572631836 Dist: -16.4188175201416\n",
      "INFO:root:Update Baseline\n",
      "INFO:root:Epoch 21 finished - Loss: -472.1112365722656, Advantage: 40.16035461425781 Dist: -56.50178146362305\n",
      "INFO:root:Update Baseline\n",
      "INFO:root:Epoch 22 finished - Loss: 485.0452880859375, Advantage: -39.92910385131836 Dist: 3.7153260707855225\n",
      "INFO:root:Update Baseline\n",
      "INFO:root:Epoch 23 finished - Loss: -2.67295503616333, Advantage: 0.28070563077926636 Dist: -56.70378875732422\n"
     ]
    },
    {
     "name": "stdout",
     "output_type": "stream",
     "text": [
      "replacing baceline\n"
     ]
    },
    {
     "name": "stderr",
     "output_type": "stream",
     "text": [
      "INFO:root:Update Baseline\n",
      "INFO:root:Epoch 24 finished - Loss: -4.04460334777832, Advantage: 0.35315704345703125 Dist: -56.46903610229492\n",
      "INFO:root:Update Baseline\n",
      "INFO:root:Epoch 25 finished - Loss: 472.7717590332031, Advantage: -39.85186767578125 Dist: -16.369117736816406\n",
      "INFO:root:Update Baseline\n",
      "INFO:root:Epoch 26 finished - Loss: 231.9027557373047, Advantage: -19.645267486572266 Dist: -36.35933303833008\n"
     ]
    },
    {
     "name": "stdout",
     "output_type": "stream",
     "text": [
      "replacing baceline\n"
     ]
    },
    {
     "name": "stderr",
     "output_type": "stream",
     "text": [
      "INFO:root:Update Baseline\n",
      "INFO:root:Epoch 27 finished - Loss: 688.877685546875, Advantage: -59.67778015136719 Dist: 3.5537502765655518\n",
      "INFO:root:Update Baseline\n",
      "INFO:root:Epoch 28 finished - Loss: -233.21583557128906, Advantage: 20.31809425354004 Dist: -76.33563995361328\n",
      "INFO:root:Update Baseline\n",
      "INFO:root:Epoch 29 finished - Loss: -227.6071319580078, Advantage: 20.381816864013672 Dist: -56.54949951171875\n"
     ]
    },
    {
     "name": "stdout",
     "output_type": "stream",
     "text": [
      "replacing baceline\n"
     ]
    },
    {
     "name": "stderr",
     "output_type": "stream",
     "text": [
      "INFO:root:Update Baseline\n",
      "INFO:root:Epoch 30 finished - Loss: -240.6012725830078, Advantage: 20.085693359375 Dist: -56.15949630737305\n",
      "INFO:root:Update Baseline\n",
      "INFO:root:Epoch 31 finished - Loss: -0.7198165059089661, Advantage: 0.04071086645126343 Dist: -56.011741638183594\n",
      "INFO:root:Update Baseline\n",
      "INFO:root:Epoch 32 finished - Loss: 221.58653259277344, Advantage: -19.777841567993164 Dist: -56.33036804199219\n",
      "INFO:root:Update Baseline\n",
      "INFO:root:Epoch 33 finished - Loss: 863.26171875, Advantage: -79.86067199707031 Dist: 3.74884033203125\n",
      "INFO:root:Update Baseline\n",
      "INFO:root:Epoch 34 finished - Loss: 220.5133514404297, Advantage: -19.997310638427734 Dist: -56.003883361816406\n",
      "INFO:root:Update Baseline\n",
      "INFO:root:Epoch 35 finished - Loss: 0.17787277698516846, Advantage: -0.12100380659103394 Dist: -36.11616516113281\n"
     ]
    },
    {
     "name": "stdout",
     "output_type": "stream",
     "text": [
      "replacing baceline\n"
     ]
    },
    {
     "name": "stderr",
     "output_type": "stream",
     "text": [
      "INFO:root:Update Baseline\n",
      "INFO:root:Epoch 36 finished - Loss: -0.6676751375198364, Advantage: 0.027339637279510498 Dist: -55.96675109863281\n",
      "INFO:root:Update Baseline\n",
      "INFO:root:Epoch 37 finished - Loss: 208.2617950439453, Advantage: -20.108020782470703 Dist: -55.75459289550781\n",
      "INFO:root:Update Baseline\n",
      "INFO:root:Epoch 38 finished - Loss: -210.08547973632812, Advantage: 19.764205932617188 Dist: -55.847328186035156\n",
      "INFO:root:Update Baseline\n",
      "INFO:root:Epoch 39 finished - Loss: -207.61048889160156, Advantage: 19.688196182250977 Dist: -55.9081916809082\n",
      "INFO:root:Update Baseline\n",
      "INFO:root:Epoch 40 finished - Loss: 206.614013671875, Advantage: -20.1643009185791 Dist: 4.344878196716309\n",
      "INFO:root:Update Baseline\n",
      "INFO:root:Epoch 41 finished - Loss: 206.25437927246094, Advantage: -20.0283145904541 Dist: -56.010581970214844\n"
     ]
    },
    {
     "name": "stdout",
     "output_type": "stream",
     "text": [
      "replacing baceline\n"
     ]
    },
    {
     "name": "stderr",
     "output_type": "stream",
     "text": [
      "INFO:root:Update Baseline\n",
      "INFO:root:Epoch 42 finished - Loss: 1.44795560836792, Advantage: -0.18709585070610046 Dist: -55.737483978271484\n",
      "INFO:root:Update Baseline\n",
      "INFO:root:Epoch 43 finished - Loss: -191.0263671875, Advantage: 19.89687156677246 Dist: -55.76024627685547\n",
      "INFO:root:Update Baseline\n",
      "INFO:root:Epoch 44 finished - Loss: -193.55926513671875, Advantage: 19.855545043945312 Dist: -75.89395141601562\n"
     ]
    },
    {
     "name": "stdout",
     "output_type": "stream",
     "text": [
      "replacing baceline\n"
     ]
    },
    {
     "name": "stderr",
     "output_type": "stream",
     "text": [
      "INFO:root:Update Baseline\n",
      "INFO:root:Epoch 45 finished - Loss: 0.11420765519142151, Advantage: -0.07121017575263977 Dist: -55.81012725830078\n",
      "INFO:root:Update Baseline\n",
      "INFO:root:Epoch 46 finished - Loss: -188.1626434326172, Advantage: 19.786592483520508 Dist: -55.733089447021484\n",
      "INFO:root:Update Baseline\n",
      "INFO:root:Epoch 47 finished - Loss: 1.2587260007858276, Advantage: -0.18580886721611023 Dist: -35.928916931152344\n"
     ]
    },
    {
     "name": "stdout",
     "output_type": "stream",
     "text": [
      "replacing baceline\n"
     ]
    },
    {
     "name": "stderr",
     "output_type": "stream",
     "text": [
      "INFO:root:Update Baseline\n",
      "INFO:root:Epoch 48 finished - Loss: 192.48605346679688, Advantage: -20.268327713012695 Dist: -35.68280029296875\n"
     ]
    },
    {
     "name": "stdout",
     "output_type": "stream",
     "text": [
      "replacing baceline\n"
     ]
    },
    {
     "name": "stderr",
     "output_type": "stream",
     "text": [
      "INFO:root:Update Baseline\n",
      "INFO:root:Epoch 49 finished - Loss: 1.9135053157806396, Advantage: -0.2153744399547577 Dist: -55.751487731933594\n",
      "INFO:root:Update Baseline\n",
      "INFO:root:Epoch 50 finished - Loss: -186.0010223388672, Advantage: 19.798959732055664 Dist: -75.63172912597656\n"
     ]
    },
    {
     "name": "stdout",
     "output_type": "stream",
     "text": [
      "replacing baceline\n"
     ]
    }
   ],
   "source": [
    "# Instantiate the SantaIRPEnv environment\n",
    "env_santa_irp = SantaIRPEnv(num_nodes=num_nodes, batch_size=batch_size, seed=seed)\n",
    "\n",
    "# Instantiate the IRPAgent (assuming it's compatible with SantaIRPEnv)\n",
    "agent_santa_irp = IRPAgent(\n",
    "    seed=seed, csv_path=f\"./train_logs/loss_log_santa_irp_{num_nodes}_{seed}.csv\",\n",
    ")\n",
    "# Train the agent\n",
    "agent_santa_irp.train(\n",
    "    env_santa_irp,\n",
    "    epochs=num_epochs,\n",
    "    check_point_dir=f\"./check_points/santa_irp_{num_nodes}_{seed}/\",\n",
    ")"
   ]
  },
  {
   "attachments": {},
   "cell_type": "markdown",
   "metadata": {},
   "source": [
    "## Visualise the actions of the agent in the environments"
   ]
  },
  {
   "cell_type": "code",
   "execution_count": 4,
   "metadata": {},
   "outputs": [],
   "source": [
    "env = SantaIRPEnv(num_nodes=num_nodes, batch_size=batch_size, seed=seed, num_draw=3)\n",
    "TSPModel=f'./check_points/tsp_{num_nodes}_{seed}/model_epoch_{num_epochs-1}.pt'"
   ]
  },
  {
   "cell_type": "code",
   "execution_count": 5,
   "metadata": {},
   "outputs": [],
   "source": [
    "# Setup for evaluation\n",
    "env.enable_video_capturing(\n",
    "    video_save_path=f\"./videos/video_test_santa_irp_{num_nodes}_{seed}.mp4\"\n",
    ")"
   ]
  },
  {
   "cell_type": "code",
   "execution_count": 6,
   "metadata": {},
   "outputs": [
    {
     "data": {
      "text/plain": [
       "<All keys matched successfully>"
      ]
     },
     "execution_count": 6,
     "metadata": {},
     "output_type": "execute_result"
    }
   ],
   "source": [
    "agent = IRPAgent(seed=seed)\n",
    "agent.model.load_state_dict(torch.load(f\"./check_points/santa_irp_{num_nodes}_{seed}/model_epoch_{num_epochs-1}.pt\"))"
   ]
  },
  {
   "cell_type": "code",
   "execution_count": 7,
   "metadata": {},
   "outputs": [
    {
     "data": {
      "text/plain": [
       "<Figure size 640x480 with 0 Axes>"
      ]
     },
     "metadata": {},
     "output_type": "display_data"
    },
    {
     "data": {
      "image/png": "[encoded data removed]",
      "text/plain": [
       "<Figure size 1500x500 with 3 Axes>"
      ]
     },
     "metadata": {},
     "output_type": "display_data"
    },
    {
     "ename": "TypeError",
     "evalue": "'NoneType' object is not subscriptable",
     "output_type": "error",
     "traceback": [
      "\u001b[1;31m---------------------------------------------------------------------------\u001b[0m",
      "\u001b[1;31mTypeError\u001b[0m                                 Traceback (most recent call last)",
      "Cell \u001b[1;32mIn[7], line 2\u001b[0m\n\u001b[0;32m      1\u001b[0m \u001b[38;5;66;03m# Evaluate the agent\u001b[39;00m\n\u001b[1;32m----> 2\u001b[0m loss_a \u001b[38;5;241m=\u001b[39m \u001b[43magent\u001b[49m\u001b[38;5;241;43m.\u001b[39;49m\u001b[43mevaluate\u001b[49m\u001b[43m(\u001b[49m\u001b[43menv\u001b[49m\u001b[43m)\u001b[49m\n",
      "File \u001b[1;32mc:\\Users\\jfgal\\Code\\VRP-GYM-extension\\agents\\graph_tsp_agent.py:271\u001b[0m, in \u001b[0;36mTSPAgent.evaluate\u001b[1;34m(self, env)\u001b[0m\n\u001b[0;32m    268\u001b[0m \u001b[38;5;28mself\u001b[39m\u001b[38;5;241m.\u001b[39mmodel\u001b[38;5;241m.\u001b[39meval()\n\u001b[0;32m    270\u001b[0m \u001b[38;5;28;01mwith\u001b[39;00m torch\u001b[38;5;241m.\u001b[39mno_grad():\n\u001b[1;32m--> 271\u001b[0m     loss, _ \u001b[38;5;241m=\u001b[39m \u001b[38;5;28;43mself\u001b[39;49m\u001b[38;5;241;43m.\u001b[39;49m\u001b[43mmodel\u001b[49m\u001b[43m(\u001b[49m\u001b[43menv\u001b[49m\u001b[43m,\u001b[49m\u001b[43m \u001b[49m\u001b[43mrollout\u001b[49m\u001b[38;5;241;43m=\u001b[39;49m\u001b[38;5;28;43;01mTrue\u001b[39;49;00m\u001b[43m)\u001b[49m\n\u001b[0;32m    273\u001b[0m \u001b[38;5;28;01mreturn\u001b[39;00m loss\n",
      "File \u001b[1;32mc:\\Users\\jfgal\\anaconda3\\envs\\gym_vrp\\lib\\site-packages\\torch\\nn\\modules\\module.py:1518\u001b[0m, in \u001b[0;36mModule._wrapped_call_impl\u001b[1;34m(self, *args, **kwargs)\u001b[0m\n\u001b[0;32m   1516\u001b[0m     \u001b[38;5;28;01mreturn\u001b[39;00m \u001b[38;5;28mself\u001b[39m\u001b[38;5;241m.\u001b[39m_compiled_call_impl(\u001b[38;5;241m*\u001b[39margs, \u001b[38;5;241m*\u001b[39m\u001b[38;5;241m*\u001b[39mkwargs)  \u001b[38;5;66;03m# type: ignore[misc]\u001b[39;00m\n\u001b[0;32m   1517\u001b[0m \u001b[38;5;28;01melse\u001b[39;00m:\n\u001b[1;32m-> 1518\u001b[0m     \u001b[38;5;28;01mreturn\u001b[39;00m \u001b[38;5;28mself\u001b[39m\u001b[38;5;241m.\u001b[39m_call_impl(\u001b[38;5;241m*\u001b[39margs, \u001b[38;5;241m*\u001b[39m\u001b[38;5;241m*\u001b[39mkwargs)\n",
      "File \u001b[1;32mc:\\Users\\jfgal\\anaconda3\\envs\\gym_vrp\\lib\\site-packages\\torch\\nn\\modules\\module.py:1527\u001b[0m, in \u001b[0;36mModule._call_impl\u001b[1;34m(self, *args, **kwargs)\u001b[0m\n\u001b[0;32m   1522\u001b[0m \u001b[38;5;66;03m# If we don't have any hooks, we want to skip the rest of the logic in\u001b[39;00m\n\u001b[0;32m   1523\u001b[0m \u001b[38;5;66;03m# this function, and just call forward.\u001b[39;00m\n\u001b[0;32m   1524\u001b[0m \u001b[38;5;28;01mif\u001b[39;00m \u001b[38;5;129;01mnot\u001b[39;00m (\u001b[38;5;28mself\u001b[39m\u001b[38;5;241m.\u001b[39m_backward_hooks \u001b[38;5;129;01mor\u001b[39;00m \u001b[38;5;28mself\u001b[39m\u001b[38;5;241m.\u001b[39m_backward_pre_hooks \u001b[38;5;129;01mor\u001b[39;00m \u001b[38;5;28mself\u001b[39m\u001b[38;5;241m.\u001b[39m_forward_hooks \u001b[38;5;129;01mor\u001b[39;00m \u001b[38;5;28mself\u001b[39m\u001b[38;5;241m.\u001b[39m_forward_pre_hooks\n\u001b[0;32m   1525\u001b[0m         \u001b[38;5;129;01mor\u001b[39;00m _global_backward_pre_hooks \u001b[38;5;129;01mor\u001b[39;00m _global_backward_hooks\n\u001b[0;32m   1526\u001b[0m         \u001b[38;5;129;01mor\u001b[39;00m _global_forward_hooks \u001b[38;5;129;01mor\u001b[39;00m _global_forward_pre_hooks):\n\u001b[1;32m-> 1527\u001b[0m     \u001b[38;5;28;01mreturn\u001b[39;00m forward_call(\u001b[38;5;241m*\u001b[39margs, \u001b[38;5;241m*\u001b[39m\u001b[38;5;241m*\u001b[39mkwargs)\n\u001b[0;32m   1529\u001b[0m \u001b[38;5;28;01mtry\u001b[39;00m:\n\u001b[0;32m   1530\u001b[0m     result \u001b[38;5;241m=\u001b[39m \u001b[38;5;28;01mNone\u001b[39;00m\n",
      "File \u001b[1;32mc:\\Users\\jfgal\\Code\\VRP-GYM-extension\\agents\\graph_irp_agent.py:90\u001b[0m, in \u001b[0;36mIRPModel.forward\u001b[1;34m(self, env, rollout)\u001b[0m\n\u001b[0;32m     82\u001b[0m \u001b[38;5;28;01mwhile\u001b[39;00m \u001b[38;5;129;01mnot\u001b[39;00m done:\n\u001b[0;32m     83\u001b[0m     actions, log_prob \u001b[38;5;241m=\u001b[39m \u001b[38;5;28mself\u001b[39m\u001b[38;5;241m.\u001b[39mdecoder(\n\u001b[0;32m     84\u001b[0m         node_embs\u001b[38;5;241m=\u001b[39memb,\n\u001b[0;32m     85\u001b[0m         mask\u001b[38;5;241m=\u001b[39mgraph_state[:, :, \u001b[38;5;241m-\u001b[39m\u001b[38;5;241m1\u001b[39m],\n\u001b[0;32m     86\u001b[0m         load\u001b[38;5;241m=\u001b[39mvehicle_state,\n\u001b[0;32m     87\u001b[0m         rollout\u001b[38;5;241m=\u001b[39mrollout,\n\u001b[0;32m     88\u001b[0m     )\n\u001b[1;32m---> 90\u001b[0m     state, loss, done, _ \u001b[38;5;241m=\u001b[39m \u001b[43menv\u001b[49m\u001b[38;5;241;43m.\u001b[39;49m\u001b[43mstep\u001b[49m\u001b[43m(\u001b[49m\u001b[43mactions\u001b[49m\u001b[38;5;241;43m.\u001b[39;49m\u001b[43mcpu\u001b[49m\u001b[43m(\u001b[49m\u001b[43m)\u001b[49m\u001b[38;5;241;43m.\u001b[39;49m\u001b[43mnumpy\u001b[49m\u001b[43m(\u001b[49m\u001b[43m)\u001b[49m\u001b[43m)\u001b[49m\n\u001b[0;32m     92\u001b[0m     acc_loss \u001b[38;5;241m+\u001b[39m\u001b[38;5;241m=\u001b[39m torch\u001b[38;5;241m.\u001b[39mtensor(loss, dtype\u001b[38;5;241m=\u001b[39mtorch\u001b[38;5;241m.\u001b[39mfloat, device\u001b[38;5;241m=\u001b[39m\u001b[38;5;28mself\u001b[39m\u001b[38;5;241m.\u001b[39mdevice)\n\u001b[0;32m     93\u001b[0m     acc_log_prob \u001b[38;5;241m+\u001b[39m\u001b[38;5;241m=\u001b[39m log_prob\u001b[38;5;241m.\u001b[39msqueeze()\u001b[38;5;241m.\u001b[39mto(\u001b[38;5;28mself\u001b[39m\u001b[38;5;241m.\u001b[39mdevice)\n",
      "File \u001b[1;32mc:\\Users\\jfgal\\Code\\VRP-GYM-extension\\gym_vrp\\envs\\sdp2.py:80\u001b[0m, in \u001b[0;36mSantaIRPEnv.step\u001b[1;34m(self, action)\u001b[0m\n\u001b[0;32m     76\u001b[0m     \u001b[38;5;28mself\u001b[39m\u001b[38;5;241m.\u001b[39mpickup()\n\u001b[0;32m     77\u001b[0m \u001b[38;5;28;01melse\u001b[39;00m:\n\u001b[0;32m     78\u001b[0m     \u001b[38;5;66;03m# Deliver items and update santa_carrying\u001b[39;00m\n\u001b[0;32m     79\u001b[0m     \u001b[38;5;66;03m# Check if the delivery is correct\u001b[39;00m\n\u001b[1;32m---> 80\u001b[0m     \u001b[38;5;28;01mif\u001b[39;00m \u001b[38;5;28;43mself\u001b[39;49m\u001b[38;5;241;43m.\u001b[39;49m\u001b[43mchild_behavior\u001b[49m\u001b[43m[\u001b[49m\u001b[43mcurrent_node\u001b[49m\u001b[43m]\u001b[49m \u001b[38;5;241m==\u001b[39m \u001b[38;5;124m'\u001b[39m\u001b[38;5;124mgood\u001b[39m\u001b[38;5;124m'\u001b[39m:\n\u001b[0;32m     81\u001b[0m         \u001b[38;5;28;01mif\u001b[39;00m \u001b[38;5;28mself\u001b[39m\u001b[38;5;241m.\u001b[39msanta_carrying[\u001b[38;5;124m'\u001b[39m\u001b[38;5;124mpresent\u001b[39m\u001b[38;5;124m'\u001b[39m] \u001b[38;5;241m>\u001b[39m \u001b[38;5;241m0\u001b[39m:\n\u001b[0;32m     82\u001b[0m             \u001b[38;5;66;03m# Correct delivery of present\u001b[39;00m\n\u001b[0;32m     83\u001b[0m             reward \u001b[38;5;241m+\u001b[39m\u001b[38;5;241m=\u001b[39m \u001b[38;5;28mself\u001b[39m\u001b[38;5;241m.\u001b[39mcorrect_delivery_reward\n",
      "\u001b[1;31mTypeError\u001b[0m: 'NoneType' object is not subscriptable"
     ]
    }
   ],
   "source": [
    "# Evaluate the agent\n",
    "loss_a = agent.evaluate(env)"
   ]
  },
  {
   "cell_type": "code",
   "execution_count": null,
   "metadata": {},
   "outputs": [],
   "source": [
    "# Close the video recorder\n",
    "env.vid.close()"
   ]
  },
  {
   "cell_type": "code",
   "execution_count": null,
   "metadata": {},
   "outputs": [],
   "source": [
    "import pandas as pd\n",
    "import matplotlib.pyplot as plt\n",
    "\n",
    "# Load the CSV file\n",
    "csv_path = f\"./train_logs/loss_log_santa_irp_{num_nodes}_{seed}.csv\"\n",
    "data = pd.read_csv(csv_path)\n",
    "\n",
    "# Extract the 'Epoch' and 'Loss' columns\n",
    "epochs = data['Epoch']\n",
    "loss = data['Loss']\n",
    "\n",
    "# Create the plot\n",
    "plt.figure(figsize=(10, 6))\n",
    "plt.plot(epochs, loss, label='Training Loss', color='blue', marker='o')\n",
    "plt.xlabel('Epochs')\n",
    "plt.ylabel('Loss')\n",
    "plt.title('Training Loss over Epochs')\n",
    "plt.legend()\n",
    "plt.grid(True)\n",
    "plt.show()\n"
   ]
  }
 ],
 "metadata": {
  "kernelspec": {
   "display_name": "rl_env",
   "language": "python",
   "name": "python3"
  },
  "language_info": {
   "codemirror_mode": {
    "name": "ipython",
    "version": 3
   },
   "file_extension": ".py",
   "mimetype": "text/x-python",
   "name": "python",
   "nbconvert_exporter": "python",
   "pygments_lexer": "ipython3",
   "version": "3.9.18"
  },
  "orig_nbformat": 4
 },
 "nbformat": 4,
 "nbformat_minor": 2
}
