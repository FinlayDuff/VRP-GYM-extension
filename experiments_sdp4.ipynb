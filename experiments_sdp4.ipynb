{
 "cells": [
  {
   "attachments": {},
   "cell_type": "markdown",
   "metadata": {},
   "source": [
    "# Import the packages and modules"
   ]
  },
  {
   "cell_type": "code",
   "execution_count": 1,
   "metadata": {},
   "outputs": [],
   "source": [
    "from gym_vrp.envs import SantaIRPEnv\n",
    "from agents import IRPAgent\n",
    "\n",
    "import torch\n"
   ]
  },
  {
   "attachments": {},
   "cell_type": "markdown",
   "metadata": {},
   "source": [
    "## Train the agent"
   ]
  },
  {
   "cell_type": "code",
   "execution_count": 2,
   "metadata": {},
   "outputs": [],
   "source": [
    "# Original\n",
    "# batch_size = 256\n",
    "# seed = 69\n",
    "# num_nodes = 20\n",
    "\n",
    "# Quick Test\n",
    "# batch_size = 10\n",
    "# seed = 23\n",
    "# num_nodes = 5\n",
    "\n",
    "batch_size = 64\n",
    "seed = 23\n",
    "num_nodes = 5\n",
    "\n",
    "num_epochs = 51\n",
    "# num_epochs = 251"
   ]
  },
  {
   "cell_type": "code",
   "execution_count": 3,
   "metadata": {},
   "outputs": [
    {
     "name": "stderr",
     "output_type": "stream",
     "text": [
      "INFO:root:Start Training\n",
      "INFO:root:Update Baseline\n",
      "INFO:root:Epoch 0 finished - Loss: 89.68342590332031, Advantage: -19.904674530029297 Dist: -23.25672149658203\n",
      "INFO:root:Update Baseline\n",
      "INFO:root:Epoch 1 finished - Loss: -90.03321075439453, Advantage: 20.03036880493164 Dist: -23.162742614746094\n"
     ]
    },
    {
     "name": "stdout",
     "output_type": "stream",
     "text": [
      "replacing baceline\n"
     ]
    },
    {
     "name": "stderr",
     "output_type": "stream",
     "text": [
      "INFO:root:Update Baseline\n",
      "INFO:root:Epoch 2 finished - Loss: 88.52252960205078, Advantage: -19.701171875 Dist: -3.450554847717285\n"
     ]
    },
    {
     "name": "stdout",
     "output_type": "stream",
     "text": [
      "replacing baceline\n"
     ]
    },
    {
     "name": "stderr",
     "output_type": "stream",
     "text": [
      "INFO:root:Update Baseline\n",
      "INFO:root:Epoch 3 finished - Loss: 82.36225128173828, Advantage: -19.717945098876953 Dist: -3.3145313262939453\n",
      "INFO:root:Update Baseline\n",
      "INFO:root:Epoch 4 finished - Loss: -0.5531122088432312, Advantage: 0.16634520888328552 Dist: -23.084754943847656\n"
     ]
    },
    {
     "name": "stdout",
     "output_type": "stream",
     "text": [
      "replacing baceline\n"
     ]
    },
    {
     "name": "stderr",
     "output_type": "stream",
     "text": [
      "INFO:root:Update Baseline\n",
      "INFO:root:Epoch 5 finished - Loss: -1.6492877006530762, Advantage: 0.4239818751811981 Dist: -23.19221305847168\n",
      "INFO:root:Update Baseline\n",
      "INFO:root:Epoch 6 finished - Loss: -1.1001404523849487, Advantage: 0.3221879303455353 Dist: -23.5146484375\n"
     ]
    },
    {
     "name": "stdout",
     "output_type": "stream",
     "text": [
      "replacing baceline\n"
     ]
    },
    {
     "name": "stderr",
     "output_type": "stream",
     "text": [
      "INFO:root:Update Baseline\n",
      "INFO:root:Epoch 7 finished - Loss: 145.56759643554688, Advantage: -39.770286560058594 Dist: 16.72262954711914\n",
      "INFO:root:Update Baseline\n",
      "INFO:root:Epoch 8 finished - Loss: -72.821044921875, Advantage: 20.25127601623535 Dist: -23.29433822631836\n",
      "INFO:root:Update Baseline\n",
      "INFO:root:Epoch 9 finished - Loss: 71.8687744140625, Advantage: -19.691221237182617 Dist: -3.25956392288208\n",
      "INFO:root:Update Baseline\n",
      "INFO:root:Epoch 10 finished - Loss: -1.3351411819458008, Advantage: 0.3116088807582855 Dist: -3.3386495113372803\n",
      "INFO:root:Update Baseline\n",
      "INFO:root:Epoch 11 finished - Loss: 133.3577423095703, Advantage: -39.789913177490234 Dist: 36.65004348754883\n",
      "INFO:root:Update Baseline\n",
      "INFO:root:Epoch 12 finished - Loss: 66.04468536376953, Advantage: -19.68258285522461 Dist: 16.720335006713867\n",
      "INFO:root:Update Baseline\n",
      "INFO:root:Epoch 13 finished - Loss: 69.04563903808594, Advantage: -19.688819885253906 Dist: -3.1999318599700928\n",
      "INFO:root:Update Baseline\n",
      "INFO:root:Epoch 14 finished - Loss: -0.3418561816215515, Advantage: 0.13331815600395203 Dist: -22.9163818359375\n",
      "INFO:root:Update Baseline\n",
      "INFO:root:Epoch 15 finished - Loss: 69.61871337890625, Advantage: -19.647245407104492 Dist: -23.398759841918945\n",
      "INFO:root:Update Baseline\n",
      "INFO:root:Epoch 16 finished - Loss: 63.253055572509766, Advantage: -19.704391479492188 Dist: -3.309718608856201\n",
      "INFO:root:Update Baseline\n",
      "INFO:root:Epoch 17 finished - Loss: -0.22607353329658508, Advantage: 0.11820706725120544 Dist: -23.054035186767578\n",
      "INFO:root:Update Baseline\n",
      "INFO:root:Epoch 18 finished - Loss: -1.4101065397262573, Advantage: 0.41171833872795105 Dist: -23.35896110534668\n",
      "INFO:root:Update Baseline\n",
      "INFO:root:Epoch 19 finished - Loss: -121.07356262207031, Advantage: 40.35737228393555 Dist: -23.234935760498047\n",
      "INFO:root:Update Baseline\n",
      "INFO:root:Epoch 20 finished - Loss: -0.46950310468673706, Advantage: 0.21617817878723145 Dist: -3.1381876468658447\n",
      "INFO:root:Update Baseline\n",
      "INFO:root:Epoch 21 finished - Loss: 64.84075164794922, Advantage: -19.74199676513672 Dist: 16.960214614868164\n",
      "INFO:root:Update Baseline\n",
      "INFO:root:Epoch 22 finished - Loss: -0.8349020481109619, Advantage: 0.26359695196151733 Dist: -23.12395477294922\n",
      "INFO:root:Update Baseline\n",
      "INFO:root:Epoch 23 finished - Loss: 59.84025573730469, Advantage: -19.742637634277344 Dist: -3.1007962226867676\n",
      "INFO:root:Update Baseline\n",
      "INFO:root:Epoch 24 finished - Loss: -0.7782831788063049, Advantage: 0.27814218401908875 Dist: -23.128936767578125\n",
      "INFO:root:Update Baseline\n",
      "INFO:root:Epoch 25 finished - Loss: 62.21745681762695, Advantage: -19.769054412841797 Dist: -3.1446704864501953\n",
      "INFO:root:Update Baseline\n",
      "INFO:root:Epoch 26 finished - Loss: -0.47998329997062683, Advantage: 0.09811803698539734 Dist: -22.909225463867188\n",
      "INFO:root:Update Baseline\n",
      "INFO:root:Epoch 27 finished - Loss: -0.354763925075531, Advantage: 0.15812444686889648 Dist: -23.005321502685547\n",
      "INFO:root:Update Baseline\n",
      "INFO:root:Epoch 28 finished - Loss: -0.755186140537262, Advantage: 0.26487594842910767 Dist: -43.40597915649414\n",
      "INFO:root:Update Baseline\n",
      "INFO:root:Epoch 29 finished - Loss: 57.76503372192383, Advantage: -19.505640029907227 Dist: -23.377368927001953\n"
     ]
    },
    {
     "name": "stdout",
     "output_type": "stream",
     "text": [
      "replacing baceline\n"
     ]
    },
    {
     "name": "stderr",
     "output_type": "stream",
     "text": [
      "INFO:root:Update Baseline\n",
      "INFO:root:Epoch 30 finished - Loss: -0.4749125838279724, Advantage: 0.1368778944015503 Dist: -23.332338333129883\n"
     ]
    },
    {
     "name": "stdout",
     "output_type": "stream",
     "text": [
      "replacing baceline\n"
     ]
    },
    {
     "name": "stderr",
     "output_type": "stream",
     "text": [
      "INFO:root:Update Baseline\n",
      "INFO:root:Epoch 31 finished - Loss: 61.52217483520508, Advantage: -19.971399307250977 Dist: -3.0298032760620117\n",
      "INFO:root:Update Baseline\n",
      "INFO:root:Epoch 32 finished - Loss: 0.06859180331230164, Advantage: -0.048430949449539185 Dist: -23.46320343017578\n"
     ]
    },
    {
     "name": "stdout",
     "output_type": "stream",
     "text": [
      "replacing baceline\n"
     ]
    },
    {
     "name": "stderr",
     "output_type": "stream",
     "text": [
      "INFO:root:Update Baseline\n",
      "INFO:root:Epoch 33 finished - Loss: -61.582603454589844, Advantage: 19.857791900634766 Dist: -42.95832061767578\n",
      "INFO:root:Update Baseline\n",
      "INFO:root:Epoch 34 finished - Loss: 61.91438293457031, Advantage: -20.013761520385742 Dist: -3.168471336364746\n",
      "INFO:root:Update Baseline\n",
      "INFO:root:Epoch 35 finished - Loss: 59.008113861083984, Advantage: -20.064163208007812 Dist: 16.78230857849121\n"
     ]
    },
    {
     "name": "stdout",
     "output_type": "stream",
     "text": [
      "replacing baceline\n"
     ]
    },
    {
     "name": "stderr",
     "output_type": "stream",
     "text": [
      "INFO:root:Update Baseline\n",
      "INFO:root:Epoch 36 finished - Loss: 0.05356008559465408, Advantage: -0.07088333368301392 Dist: -43.04095458984375\n",
      "INFO:root:Update Baseline\n",
      "INFO:root:Epoch 37 finished - Loss: 0.09630408138036728, Advantage: -0.03677785396575928 Dist: -23.183931350708008\n",
      "INFO:root:Update Baseline\n",
      "INFO:root:Epoch 38 finished - Loss: 0.3726400136947632, Advantage: -0.15484969317913055 Dist: -3.082333564758301\n",
      "INFO:root:Update Baseline\n",
      "INFO:root:Epoch 39 finished - Loss: -0.08118279278278351, Advantage: 0.01985916495323181 Dist: -23.129322052001953\n",
      "INFO:root:Update Baseline\n",
      "INFO:root:Epoch 40 finished - Loss: -56.126739501953125, Advantage: 19.850095748901367 Dist: -23.29172134399414\n",
      "INFO:root:Update Baseline\n",
      "INFO:root:Epoch 41 finished - Loss: -53.294559478759766, Advantage: 19.974369049072266 Dist: -23.164701461791992\n",
      "INFO:root:Update Baseline\n",
      "INFO:root:Epoch 42 finished - Loss: -108.41387939453125, Advantage: 39.8499755859375 Dist: -43.30084991455078\n",
      "INFO:root:Update Baseline\n",
      "INFO:root:Epoch 43 finished - Loss: 58.619789123535156, Advantage: -20.13192367553711 Dist: -23.216232299804688\n",
      "INFO:root:Update Baseline\n",
      "INFO:root:Epoch 44 finished - Loss: 0.20220810174942017, Advantage: -0.08868163824081421 Dist: -43.026268005371094\n",
      "INFO:root:Update Baseline\n",
      "INFO:root:Epoch 45 finished - Loss: -0.39461082220077515, Advantage: 0.052250754088163376 Dist: -3.0183138847351074\n"
     ]
    },
    {
     "name": "stdout",
     "output_type": "stream",
     "text": [
      "replacing baceline\n"
     ]
    },
    {
     "name": "stderr",
     "output_type": "stream",
     "text": [
      "INFO:root:Update Baseline\n",
      "INFO:root:Epoch 46 finished - Loss: -57.132179260253906, Advantage: 19.938114166259766 Dist: -3.252345561981201\n",
      "INFO:root:Update Baseline\n",
      "INFO:root:Epoch 47 finished - Loss: -0.36688780784606934, Advantage: 0.006917357444763184 Dist: -23.3333740234375\n",
      "INFO:root:Update Baseline\n",
      "INFO:root:Epoch 48 finished - Loss: 52.475643157958984, Advantage: -19.986003875732422 Dist: -3.187880754470825\n",
      "INFO:root:Update Baseline\n",
      "INFO:root:Epoch 49 finished - Loss: 0.456301748752594, Advantage: -0.12194323539733887 Dist: -23.100685119628906\n",
      "INFO:root:Update Baseline\n",
      "INFO:root:Epoch 50 finished - Loss: 0.016596868634223938, Advantage: -0.03717172145843506 Dist: -43.38325500488281\n"
     ]
    },
    {
     "name": "stdout",
     "output_type": "stream",
     "text": [
      "replacing baceline\n"
     ]
    }
   ],
   "source": [
    "# Instantiate the SantaIRPEnv environment\n",
    "env_santa_irp = SantaIRPEnv(num_nodes=num_nodes, batch_size=batch_size, seed=seed)\n",
    "\n",
    "# Instantiate the IRPAgent (assuming it's compatible with SantaIRPEnv)\n",
    "agent_santa_irp = IRPAgent(\n",
    "    seed=seed, csv_path=f\"./train_logs/loss_log_santa_irp_{num_nodes}_{seed}.csv\",\n",
    ")\n",
    "# Train the agent\n",
    "agent_santa_irp.train(\n",
    "    env_santa_irp,\n",
    "    epochs=num_epochs,\n",
    "    check_point_dir=f\"./check_points/santa_irp_{num_nodes}_{seed}/\",\n",
    ")"
   ]
  },
  {
   "attachments": {},
   "cell_type": "markdown",
   "metadata": {},
   "source": [
    "## Visualise the actions of the agent in the environments"
   ]
  },
  {
   "cell_type": "code",
   "execution_count": 4,
   "metadata": {},
   "outputs": [],
   "source": [
    "#env = SantaIRPEnv(num_nodes=num_nodes, batch_size=batch_size, seed=seed, num_draw=3)\n",
    "env = env_santa_irp\n",
    "TSPModel=f'./check_points/tsp_{num_nodes}_{seed}/model_epoch_{num_epochs-1}.pt'"
   ]
  },
  {
   "cell_type": "code",
   "execution_count": 5,
   "metadata": {},
   "outputs": [],
   "source": [
    "# Setup for evaluation\n",
    "env.enable_video_capturing(\n",
    "    video_save_path=f\"./videos/video_test_santa_irp_{num_nodes}_{seed}.mp4\"\n",
    ")"
   ]
  },
  {
   "cell_type": "code",
   "execution_count": 6,
   "metadata": {},
   "outputs": [
    {
     "data": {
      "text/plain": [
       "<All keys matched successfully>"
      ]
     },
     "execution_count": 6,
     "metadata": {},
     "output_type": "execute_result"
    }
   ],
   "source": [
    "agent = IRPAgent(seed=seed)\n",
    "agent.model.load_state_dict(torch.load(f\"./check_points/santa_irp_{num_nodes}_{seed}/model_epoch_{num_epochs-1}.pt\"))"
   ]
  },
  {
   "cell_type": "code",
   "execution_count": 7,
   "metadata": {},
   "outputs": [
    {
     "data": {
      "text/plain": [
       "<Figure size 640x480 with 0 Axes>"
      ]
     },
     "metadata": {},
     "output_type": "display_data"
    },
    {
     "data": {
      "image/png": "[encoded data removed]",
      "text/plain": [
       "<Figure size 1500x500 with 3 Axes>"
      ]
     },
     "metadata": {},
     "output_type": "display_data"
    },
    {
     "ename": "TypeError",
     "evalue": "'NoneType' object is not subscriptable",
     "output_type": "error",
     "traceback": [
      "\u001b[1;31m---------------------------------------------------------------------------\u001b[0m",
      "\u001b[1;31mTypeError\u001b[0m                                 Traceback (most recent call last)",
      "Cell \u001b[1;32mIn[7], line 2\u001b[0m\n\u001b[0;32m      1\u001b[0m \u001b[38;5;66;03m# Evaluate the agent\u001b[39;00m\n\u001b[1;32m----> 2\u001b[0m loss_a \u001b[38;5;241m=\u001b[39m \u001b[43magent\u001b[49m\u001b[38;5;241;43m.\u001b[39;49m\u001b[43mevaluate\u001b[49m\u001b[43m(\u001b[49m\u001b[43menv\u001b[49m\u001b[43m)\u001b[49m\n",
      "File \u001b[1;32mc:\\Users\\jfgal\\Code\\VRP-GYM-extension\\agents\\graph_tsp_agent.py:271\u001b[0m, in \u001b[0;36mTSPAgent.evaluate\u001b[1;34m(self, env)\u001b[0m\n\u001b[0;32m    268\u001b[0m \u001b[38;5;28mself\u001b[39m\u001b[38;5;241m.\u001b[39mmodel\u001b[38;5;241m.\u001b[39meval()\n\u001b[0;32m    270\u001b[0m \u001b[38;5;28;01mwith\u001b[39;00m torch\u001b[38;5;241m.\u001b[39mno_grad():\n\u001b[1;32m--> 271\u001b[0m     loss, _ \u001b[38;5;241m=\u001b[39m \u001b[38;5;28;43mself\u001b[39;49m\u001b[38;5;241;43m.\u001b[39;49m\u001b[43mmodel\u001b[49m\u001b[43m(\u001b[49m\u001b[43menv\u001b[49m\u001b[43m,\u001b[49m\u001b[43m \u001b[49m\u001b[43mrollout\u001b[49m\u001b[38;5;241;43m=\u001b[39;49m\u001b[38;5;28;43;01mTrue\u001b[39;49;00m\u001b[43m)\u001b[49m\n\u001b[0;32m    273\u001b[0m \u001b[38;5;28;01mreturn\u001b[39;00m loss\n",
      "File \u001b[1;32mc:\\Users\\jfgal\\anaconda3\\envs\\gym_vrp\\lib\\site-packages\\torch\\nn\\modules\\module.py:1518\u001b[0m, in \u001b[0;36mModule._wrapped_call_impl\u001b[1;34m(self, *args, **kwargs)\u001b[0m\n\u001b[0;32m   1516\u001b[0m     \u001b[38;5;28;01mreturn\u001b[39;00m \u001b[38;5;28mself\u001b[39m\u001b[38;5;241m.\u001b[39m_compiled_call_impl(\u001b[38;5;241m*\u001b[39margs, \u001b[38;5;241m*\u001b[39m\u001b[38;5;241m*\u001b[39mkwargs)  \u001b[38;5;66;03m# type: ignore[misc]\u001b[39;00m\n\u001b[0;32m   1517\u001b[0m \u001b[38;5;28;01melse\u001b[39;00m:\n\u001b[1;32m-> 1518\u001b[0m     \u001b[38;5;28;01mreturn\u001b[39;00m \u001b[38;5;28mself\u001b[39m\u001b[38;5;241m.\u001b[39m_call_impl(\u001b[38;5;241m*\u001b[39margs, \u001b[38;5;241m*\u001b[39m\u001b[38;5;241m*\u001b[39mkwargs)\n",
      "File \u001b[1;32mc:\\Users\\jfgal\\anaconda3\\envs\\gym_vrp\\lib\\site-packages\\torch\\nn\\modules\\module.py:1527\u001b[0m, in \u001b[0;36mModule._call_impl\u001b[1;34m(self, *args, **kwargs)\u001b[0m\n\u001b[0;32m   1522\u001b[0m \u001b[38;5;66;03m# If we don't have any hooks, we want to skip the rest of the logic in\u001b[39;00m\n\u001b[0;32m   1523\u001b[0m \u001b[38;5;66;03m# this function, and just call forward.\u001b[39;00m\n\u001b[0;32m   1524\u001b[0m \u001b[38;5;28;01mif\u001b[39;00m \u001b[38;5;129;01mnot\u001b[39;00m (\u001b[38;5;28mself\u001b[39m\u001b[38;5;241m.\u001b[39m_backward_hooks \u001b[38;5;129;01mor\u001b[39;00m \u001b[38;5;28mself\u001b[39m\u001b[38;5;241m.\u001b[39m_backward_pre_hooks \u001b[38;5;129;01mor\u001b[39;00m \u001b[38;5;28mself\u001b[39m\u001b[38;5;241m.\u001b[39m_forward_hooks \u001b[38;5;129;01mor\u001b[39;00m \u001b[38;5;28mself\u001b[39m\u001b[38;5;241m.\u001b[39m_forward_pre_hooks\n\u001b[0;32m   1525\u001b[0m         \u001b[38;5;129;01mor\u001b[39;00m _global_backward_pre_hooks \u001b[38;5;129;01mor\u001b[39;00m _global_backward_hooks\n\u001b[0;32m   1526\u001b[0m         \u001b[38;5;129;01mor\u001b[39;00m _global_forward_hooks \u001b[38;5;129;01mor\u001b[39;00m _global_forward_pre_hooks):\n\u001b[1;32m-> 1527\u001b[0m     \u001b[38;5;28;01mreturn\u001b[39;00m forward_call(\u001b[38;5;241m*\u001b[39margs, \u001b[38;5;241m*\u001b[39m\u001b[38;5;241m*\u001b[39mkwargs)\n\u001b[0;32m   1529\u001b[0m \u001b[38;5;28;01mtry\u001b[39;00m:\n\u001b[0;32m   1530\u001b[0m     result \u001b[38;5;241m=\u001b[39m \u001b[38;5;28;01mNone\u001b[39;00m\n",
      "File \u001b[1;32mc:\\Users\\jfgal\\Code\\VRP-GYM-extension\\agents\\graph_irp_agent.py:90\u001b[0m, in \u001b[0;36mIRPModel.forward\u001b[1;34m(self, env, rollout)\u001b[0m\n\u001b[0;32m     82\u001b[0m \u001b[38;5;28;01mwhile\u001b[39;00m \u001b[38;5;129;01mnot\u001b[39;00m done:\n\u001b[0;32m     83\u001b[0m     actions, log_prob \u001b[38;5;241m=\u001b[39m \u001b[38;5;28mself\u001b[39m\u001b[38;5;241m.\u001b[39mdecoder(\n\u001b[0;32m     84\u001b[0m         node_embs\u001b[38;5;241m=\u001b[39memb,\n\u001b[0;32m     85\u001b[0m         mask\u001b[38;5;241m=\u001b[39mgraph_state[:, :, \u001b[38;5;241m-\u001b[39m\u001b[38;5;241m1\u001b[39m],\n\u001b[0;32m     86\u001b[0m         load\u001b[38;5;241m=\u001b[39mvehicle_state,\n\u001b[0;32m     87\u001b[0m         rollout\u001b[38;5;241m=\u001b[39mrollout,\n\u001b[0;32m     88\u001b[0m     )\n\u001b[1;32m---> 90\u001b[0m     state, loss, done, _ \u001b[38;5;241m=\u001b[39m \u001b[43menv\u001b[49m\u001b[38;5;241;43m.\u001b[39;49m\u001b[43mstep\u001b[49m\u001b[43m(\u001b[49m\u001b[43mactions\u001b[49m\u001b[38;5;241;43m.\u001b[39;49m\u001b[43mcpu\u001b[49m\u001b[43m(\u001b[49m\u001b[43m)\u001b[49m\u001b[38;5;241;43m.\u001b[39;49m\u001b[43mnumpy\u001b[49m\u001b[43m(\u001b[49m\u001b[43m)\u001b[49m\u001b[43m)\u001b[49m\n\u001b[0;32m     92\u001b[0m     acc_loss \u001b[38;5;241m+\u001b[39m\u001b[38;5;241m=\u001b[39m torch\u001b[38;5;241m.\u001b[39mtensor(loss, dtype\u001b[38;5;241m=\u001b[39mtorch\u001b[38;5;241m.\u001b[39mfloat, device\u001b[38;5;241m=\u001b[39m\u001b[38;5;28mself\u001b[39m\u001b[38;5;241m.\u001b[39mdevice)\n\u001b[0;32m     93\u001b[0m     acc_log_prob \u001b[38;5;241m+\u001b[39m\u001b[38;5;241m=\u001b[39m log_prob\u001b[38;5;241m.\u001b[39msqueeze()\u001b[38;5;241m.\u001b[39mto(\u001b[38;5;28mself\u001b[39m\u001b[38;5;241m.\u001b[39mdevice)\n",
      "File \u001b[1;32mc:\\Users\\jfgal\\Code\\VRP-GYM-extension\\gym_vrp\\envs\\sdp2.py:83\u001b[0m, in \u001b[0;36mSantaIRPEnv.step\u001b[1;34m(self, action)\u001b[0m\n\u001b[0;32m     78\u001b[0m     \u001b[38;5;28mself\u001b[39m\u001b[38;5;241m.\u001b[39mpickup()\n\u001b[0;32m     79\u001b[0m \u001b[38;5;28;01melse\u001b[39;00m:\n\u001b[0;32m     80\u001b[0m     \u001b[38;5;66;03m# Deliver items and update santa_carrying\u001b[39;00m\n\u001b[0;32m     81\u001b[0m     \u001b[38;5;66;03m# Check if the delivery is correct\u001b[39;00m\n\u001b[0;32m     82\u001b[0m     \u001b[38;5;66;03m#print(\"Before accessing self.santa_carrying:\", self.santa_carrying)\u001b[39;00m\n\u001b[1;32m---> 83\u001b[0m     \u001b[38;5;28;01mif\u001b[39;00m \u001b[38;5;28;43mself\u001b[39;49m\u001b[38;5;241;43m.\u001b[39;49m\u001b[43mchild_behavior\u001b[49m\u001b[43m[\u001b[49m\u001b[43mcurrent_node\u001b[49m\u001b[43m]\u001b[49m \u001b[38;5;241m==\u001b[39m \u001b[38;5;124m'\u001b[39m\u001b[38;5;124mgood\u001b[39m\u001b[38;5;124m'\u001b[39m:\n\u001b[0;32m     84\u001b[0m         \u001b[38;5;28;01mif\u001b[39;00m \u001b[38;5;28mself\u001b[39m\u001b[38;5;241m.\u001b[39msanta_carrying[\u001b[38;5;124m'\u001b[39m\u001b[38;5;124mpresent\u001b[39m\u001b[38;5;124m'\u001b[39m] \u001b[38;5;241m>\u001b[39m \u001b[38;5;241m0\u001b[39m:\n\u001b[0;32m     85\u001b[0m             \u001b[38;5;66;03m# Correct delivery of present\u001b[39;00m\n\u001b[0;32m     86\u001b[0m             reward \u001b[38;5;241m+\u001b[39m\u001b[38;5;241m=\u001b[39m \u001b[38;5;28mself\u001b[39m\u001b[38;5;241m.\u001b[39mcorrect_delivery_reward\n",
      "\u001b[1;31mTypeError\u001b[0m: 'NoneType' object is not subscriptable"
     ]
    }
   ],
   "source": [
    "# Evaluate the agent\n",
    "loss_a = agent.evaluate(env)"
   ]
  },
  {
   "cell_type": "code",
   "execution_count": null,
   "metadata": {},
   "outputs": [],
   "source": [
    "# Close the video recorder\n",
    "env.vid.close()"
   ]
  },
  {
   "cell_type": "code",
   "execution_count": null,
   "metadata": {},
   "outputs": [],
   "source": [
    "import pandas as pd\n",
    "import matplotlib.pyplot as plt\n",
    "\n",
    "# Load the CSV file\n",
    "csv_path = f\"./train_logs/loss_log_santa_irp_{num_nodes}_{seed}.csv\"\n",
    "data = pd.read_csv(csv_path)\n",
    "\n",
    "# Extract the 'Epoch' and 'Loss' columns\n",
    "epochs = data['Epoch']\n",
    "loss = data['Loss']\n",
    "\n",
    "# Create the plot\n",
    "plt.figure(figsize=(10, 6))\n",
    "plt.plot(epochs, loss, label='Training Loss', color='blue', marker='o')\n",
    "plt.xlabel('Epochs')\n",
    "plt.ylabel('Loss')\n",
    "plt.title('Training Loss over Epochs')\n",
    "plt.legend()\n",
    "plt.grid(True)\n",
    "plt.show()\n"
   ]
  }
 ],
 "metadata": {
  "kernelspec": {
   "display_name": "rl_env",
   "language": "python",
   "name": "python3"
  },
  "language_info": {
   "codemirror_mode": {
    "name": "ipython",
    "version": 3
   },
   "file_extension": ".py",
   "mimetype": "text/x-python",
   "name": "python",
   "nbconvert_exporter": "python",
   "pygments_lexer": "ipython3",
   "version": "3.9.18"
  },
  "orig_nbformat": 4
 },
 "nbformat": 4,
 "nbformat_minor": 2
}
