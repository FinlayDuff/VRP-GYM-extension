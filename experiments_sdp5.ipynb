{
 "cells": [
  {
   "attachments": {},
   "cell_type": "markdown",
   "metadata": {},
   "source": [
    "# Import the packages and modules"
   ]
  },
  {
   "cell_type": "code",
   "execution_count": 1,
   "metadata": {},
   "outputs": [],
   "source": [
    "from gym_vrp.envs import SantaIRPEnv, IRPEnv\n",
    "from agents.ff_sdp_agent import SDPAgentFF\n",
    "\n",
    "import torch\n"
   ]
  },
  {
   "attachments": {},
   "cell_type": "markdown",
   "metadata": {},
   "source": [
    "## Train the agent"
   ]
  },
  {
   "cell_type": "code",
   "execution_count": 2,
   "metadata": {},
   "outputs": [
    {
     "ename": "TypeError",
     "evalue": "'NoneType' object is not subscriptable",
     "output_type": "error",
     "traceback": [
      "\u001b[1;31m---------------------------------------------------------------------------\u001b[0m",
      "\u001b[1;31mTypeError\u001b[0m                                 Traceback (most recent call last)",
      "\u001b[1;32mc:\\Users\\jfgal\\Code\\VRP-GYM-extension\\experiments_sdp5.ipynb Cell 4\u001b[0m line \u001b[0;36m1\n\u001b[0;32m     <a href='vscode-notebook-cell:/c%3A/Users/jfgal/Code/VRP-GYM-extension/experiments_sdp5.ipynb#X16sZmlsZQ%3D%3D?line=9'>10</a>\u001b[0m hidden_dim\u001b[39m=\u001b[39m\u001b[39m1024\u001b[39m\n\u001b[0;32m     <a href='vscode-notebook-cell:/c%3A/Users/jfgal/Code/VRP-GYM-extension/experiments_sdp5.ipynb#X16sZmlsZQ%3D%3D?line=12'>13</a>\u001b[0m \u001b[39m# Instantiate the SantaIRPEnv environment\u001b[39;00m\n\u001b[1;32m---> <a href='vscode-notebook-cell:/c%3A/Users/jfgal/Code/VRP-GYM-extension/experiments_sdp5.ipynb#X16sZmlsZQ%3D%3D?line=13'>14</a>\u001b[0m env_santa \u001b[39m=\u001b[39m SantaIRPEnv(num_nodes\u001b[39m=\u001b[39;49mnum_nodes, batch_size\u001b[39m=\u001b[39;49mbatch_size, seed\u001b[39m=\u001b[39;49mseed, num_draw\u001b[39m=\u001b[39;49m\u001b[39m3\u001b[39;49m)\n\u001b[0;32m     <a href='vscode-notebook-cell:/c%3A/Users/jfgal/Code/VRP-GYM-extension/experiments_sdp5.ipynb#X16sZmlsZQ%3D%3D?line=15'>16</a>\u001b[0m \u001b[39m# Instantiate the SDPAgentFF\u001b[39;00m\n\u001b[0;32m     <a href='vscode-notebook-cell:/c%3A/Users/jfgal/Code/VRP-GYM-extension/experiments_sdp5.ipynb#X16sZmlsZQ%3D%3D?line=16'>17</a>\u001b[0m agent_santa_ff \u001b[39m=\u001b[39m SDPAgentFF(node_dim\u001b[39m=\u001b[39mnum_nodes,hidden_dim\u001b[39m=\u001b[39mhidden_dim,lr\u001b[39m=\u001b[39mlr,gamma\u001b[39m=\u001b[39mgamma,dropout_rate\u001b[39m=\u001b[39mdropout_rate,\n\u001b[0;32m     <a href='vscode-notebook-cell:/c%3A/Users/jfgal/Code/VRP-GYM-extension/experiments_sdp5.ipynb#X16sZmlsZQ%3D%3D?line=17'>18</a>\u001b[0m     seed\u001b[39m=\u001b[39mseed, csv_path\u001b[39m=\u001b[39m\u001b[39mf\u001b[39m\u001b[39m\"\u001b[39m\u001b[39m./train_logs/loss_log_santa_ff_\u001b[39m\u001b[39m{\u001b[39;00mnum_nodes\u001b[39m}\u001b[39;00m\u001b[39m_\u001b[39m\u001b[39m{\u001b[39;00mseed\u001b[39m}\u001b[39;00m\u001b[39m.csv\u001b[39m\u001b[39m\"\u001b[39m,\n\u001b[0;32m     <a href='vscode-notebook-cell:/c%3A/Users/jfgal/Code/VRP-GYM-extension/experiments_sdp5.ipynb#X16sZmlsZQ%3D%3D?line=18'>19</a>\u001b[0m )\n",
      "File \u001b[1;32mc:\\Users\\jfgal\\Code\\VRP-GYM-extension\\gym_vrp\\envs\\sdp.py:29\u001b[0m, in \u001b[0;36mSantaIRPEnv.__init__\u001b[1;34m(self, *args, **kwargs)\u001b[0m\n\u001b[0;32m     27\u001b[0m \u001b[39mself\u001b[39m\u001b[39m.\u001b[39menergy \u001b[39m=\u001b[39m \u001b[39mNone\u001b[39;00m\n\u001b[0;32m     28\u001b[0m \u001b[39mself\u001b[39m\u001b[39m.\u001b[39mload \u001b[39m=\u001b[39m \u001b[39mNone\u001b[39;00m\n\u001b[1;32m---> 29\u001b[0m \u001b[39msuper\u001b[39m()\u001b[39m.\u001b[39m\u001b[39m__init__\u001b[39m(\u001b[39m*\u001b[39margs, \u001b[39m*\u001b[39m\u001b[39m*\u001b[39mkwargs)\n\u001b[0;32m     31\u001b[0m \u001b[39m# Configurable reward and penalty values\u001b[39;00m\n\u001b[0;32m     32\u001b[0m \u001b[39mself\u001b[39m\u001b[39m.\u001b[39mmax_energy \u001b[39m=\u001b[39m \u001b[39m1\u001b[39m\n",
      "File \u001b[1;32mc:\\Users\\jfgal\\Code\\VRP-GYM-extension\\gym_vrp\\envs\\irp.py:43\u001b[0m, in \u001b[0;36mIRPEnv.__init__\u001b[1;34m(self, num_nodes, batch_size, num_draw, seed)\u001b[0m\n\u001b[0;32m     28\u001b[0m \u001b[39mdef\u001b[39;00m \u001b[39m__init__\u001b[39m(\n\u001b[0;32m     29\u001b[0m     \u001b[39mself\u001b[39m,\n\u001b[0;32m     30\u001b[0m     num_nodes: \u001b[39mint\u001b[39m \u001b[39m=\u001b[39m \u001b[39m32\u001b[39m,\n\u001b[1;32m   (...)\u001b[0m\n\u001b[0;32m     33\u001b[0m     seed: \u001b[39mint\u001b[39m \u001b[39m=\u001b[39m \u001b[39m69\u001b[39m,\n\u001b[0;32m     34\u001b[0m ):\n\u001b[0;32m     35\u001b[0m \u001b[39m    \u001b[39m\u001b[39m\"\"\"\u001b[39;00m\n\u001b[0;32m     36\u001b[0m \u001b[39m    Args:\u001b[39;00m\n\u001b[0;32m     37\u001b[0m \u001b[39m        num_nodes (int, optional): Number of nodes in each generated graph. Defaults to 32.\u001b[39;00m\n\u001b[1;32m   (...)\u001b[0m\n\u001b[0;32m     41\u001b[0m \u001b[39m        seed (int, optional): Seed of the environment. Defaults to 69.\u001b[39;00m\n\u001b[0;32m     42\u001b[0m \u001b[39m    \"\"\"\u001b[39;00m\n\u001b[1;32m---> 43\u001b[0m     \u001b[39msuper\u001b[39;49m()\u001b[39m.\u001b[39;49m\u001b[39m__init__\u001b[39;49m(\n\u001b[0;32m     44\u001b[0m         num_nodes\u001b[39m=\u001b[39;49mnum_nodes,\n\u001b[0;32m     45\u001b[0m         batch_size\u001b[39m=\u001b[39;49mbatch_size,\n\u001b[0;32m     46\u001b[0m         num_draw\u001b[39m=\u001b[39;49mnum_draw,\n\u001b[0;32m     47\u001b[0m         seed\u001b[39m=\u001b[39;49mseed,\n\u001b[0;32m     48\u001b[0m     )\n\u001b[0;32m     50\u001b[0m     \u001b[39mself\u001b[39m\u001b[39m.\u001b[39mload \u001b[39m=\u001b[39m np\u001b[39m.\u001b[39mones(shape\u001b[39m=\u001b[39m(batch_size,))\n",
      "File \u001b[1;32mc:\\Users\\jfgal\\Code\\VRP-GYM-extension\\gym_vrp\\envs\\tsp.py:58\u001b[0m, in \u001b[0;36mTSPEnv.__init__\u001b[1;34m(self, num_nodes, batch_size, num_draw, seed)\u001b[0m\n\u001b[0;32m     55\u001b[0m \u001b[39mself\u001b[39m\u001b[39m.\u001b[39mdraw_idxs \u001b[39m=\u001b[39m np\u001b[39m.\u001b[39mrandom\u001b[39m.\u001b[39mchoice(batch_size, num_draw, replace\u001b[39m=\u001b[39m\u001b[39mFalse\u001b[39;00m)\n\u001b[0;32m     56\u001b[0m \u001b[39mself\u001b[39m\u001b[39m.\u001b[39mvideo_save_path \u001b[39m=\u001b[39m \u001b[39mNone\u001b[39;00m\n\u001b[1;32m---> 58\u001b[0m \u001b[39mself\u001b[39;49m\u001b[39m.\u001b[39;49mgenerate_graphs()\n",
      "File \u001b[1;32mc:\\Users\\jfgal\\Code\\VRP-GYM-extension\\gym_vrp\\envs\\sdp.py:149\u001b[0m, in \u001b[0;36mSantaIRPEnv.generate_graphs\u001b[1;34m(self)\u001b[0m\n\u001b[0;32m    138\u001b[0m \u001b[39m# if not hasattr(self, 'energy'):\u001b[39;00m\n\u001b[0;32m    139\u001b[0m \u001b[39m#     self.energy = np.zeros(shape=(self.batch_size,))\u001b[39;00m\n\u001b[0;32m    140\u001b[0m \u001b[39m# if self.energy is None:\u001b[39;00m\n\u001b[1;32m   (...)\u001b[0m\n\u001b[0;32m    145\u001b[0m \u001b[39m# if self.load is None:\u001b[39;00m\n\u001b[0;32m    146\u001b[0m \u001b[39m#     self.load = np.zeros(shape=(self.batch_size,))\u001b[39;00m\n\u001b[0;32m    148\u001b[0m \u001b[39mself\u001b[39m\u001b[39m.\u001b[39mvisited \u001b[39m=\u001b[39m np\u001b[39m.\u001b[39mzeros(shape\u001b[39m=\u001b[39m(\u001b[39mself\u001b[39m\u001b[39m.\u001b[39mbatch_size, \u001b[39mself\u001b[39m\u001b[39m.\u001b[39mnum_nodes))\n\u001b[1;32m--> 149\u001b[0m \u001b[39mself\u001b[39m\u001b[39m.\u001b[39msampler \u001b[39m=\u001b[39m VRPNetwork(\n\u001b[0;32m    150\u001b[0m     num_graphs\u001b[39m=\u001b[39;49m\u001b[39mself\u001b[39;49m\u001b[39m.\u001b[39;49mbatch_size,\n\u001b[0;32m    151\u001b[0m     num_nodes\u001b[39m=\u001b[39;49m\u001b[39mself\u001b[39;49m\u001b[39m.\u001b[39;49mnum_nodes,\n\u001b[0;32m    152\u001b[0m     num_depots\u001b[39m=\u001b[39;49m\u001b[39m1\u001b[39;49m,\n\u001b[0;32m    153\u001b[0m     plot_demand\u001b[39m=\u001b[39;49m\u001b[39mTrue\u001b[39;49;00m,\n\u001b[0;32m    154\u001b[0m     energy\u001b[39m=\u001b[39;49m\u001b[39mself\u001b[39;49m\u001b[39m.\u001b[39;49menergy,\n\u001b[0;32m    155\u001b[0m     load\u001b[39m=\u001b[39;49m\u001b[39mself\u001b[39;49m\u001b[39m.\u001b[39;49mload,\n\u001b[0;32m    156\u001b[0m )\n\u001b[0;32m    158\u001b[0m \u001b[39m# set current location to the depots\u001b[39;00m\n\u001b[0;32m    159\u001b[0m \u001b[39mself\u001b[39m\u001b[39m.\u001b[39mdepots \u001b[39m=\u001b[39m \u001b[39mself\u001b[39m\u001b[39m.\u001b[39msampler\u001b[39m.\u001b[39mget_depots()\n",
      "File \u001b[1;32mc:\\Users\\jfgal\\Code\\VRP-GYM-extension\\gym_vrp\\graph\\vrp_network.py:47\u001b[0m, in \u001b[0;36mVRPNetwork.__init__\u001b[1;34m(self, num_graphs, num_nodes, num_depots, plot_demand, energy, load)\u001b[0m\n\u001b[0;32m     45\u001b[0m \u001b[39m# generate a graph with nn nodes and nd depots\u001b[39;00m\n\u001b[0;32m     46\u001b[0m \u001b[39mfor\u001b[39;00m i \u001b[39min\u001b[39;00m \u001b[39mrange\u001b[39m(num_graphs):\n\u001b[1;32m---> 47\u001b[0m     \u001b[39mself\u001b[39m\u001b[39m.\u001b[39mgraphs\u001b[39m.\u001b[39mappend(VRPGraph(num_nodes, num_depots, plot_demand\u001b[39m=\u001b[39mplot_demand, this_energy\u001b[39m=\u001b[39menergy[i], this_load\u001b[39m=\u001b[39mload[i]))\n",
      "\u001b[1;31mTypeError\u001b[0m: 'NoneType' object is not subscriptable"
     ]
    }
   ],
   "source": [
    "batch_size = 32\n",
    "seed = 123\n",
    "num_nodes = 7\n",
    "\n",
    "# num_epochs = 1001\n",
    "num_epochs = 101\n",
    "lr=1E-4\n",
    "gamma = 0.99\n",
    "dropout_rate = 0.5\n",
    "hidden_dim=1024\n",
    "\n",
    "\n",
    "# Instantiate the SantaIRPEnv environment\n",
    "env_santa = SantaIRPEnv(num_nodes=num_nodes, batch_size=batch_size, seed=seed, num_draw=3)\n",
    "\n",
    "# Instantiate the SDPAgentFF\n",
    "agent_santa_ff = SDPAgentFF(node_dim=num_nodes,hidden_dim=hidden_dim,lr=lr,gamma=gamma,dropout_rate=dropout_rate,\n",
    "    seed=seed, csv_path=f\"./train_logs/loss_log_santa_ff_{num_nodes}_{seed}.csv\",\n",
    ")\n",
    "\n",
    "# Train the agent\n",
    "agent_santa_ff.train(\n",
    "    env_santa,\n",
    "    episodes=num_epochs,\n",
    "    check_point_dir=f\"./check_points/santa_ff_{num_nodes}_{seed}/\",\n",
    ")"
   ]
  },
  {
   "attachments": {},
   "cell_type": "markdown",
   "metadata": {},
   "source": [
    "## Visualise the actions of the agent in the environments"
   ]
  },
  {
   "cell_type": "code",
   "execution_count": null,
   "metadata": {},
   "outputs": [],
   "source": [
    "# Setup for evaluation\n",
    "env_santa.reset()\n",
    "env_santa.enable_video_capturing(\n",
    "    video_save_path=f\"./videos/video_test_santa_ff_{num_nodes}_{seed}.mp4\"\n",
    ")"
   ]
  },
  {
   "cell_type": "code",
   "execution_count": null,
   "metadata": {},
   "outputs": [],
   "source": [
    "# load the best agent from training\n",
    "agent_santa_ff.model.load_state_dict(torch.load(f\"./check_points/santa_ff_{num_nodes}_{seed}/best_model.pt\"))"
   ]
  },
  {
   "cell_type": "code",
   "execution_count": null,
   "metadata": {},
   "outputs": [],
   "source": [
    "# Evaluate the agent\n",
    "loss_a = agent_santa_ff.evaluate(env_santa)"
   ]
  },
  {
   "cell_type": "code",
   "execution_count": null,
   "metadata": {},
   "outputs": [],
   "source": [
    "# Close the video recorder\n",
    "env_santa.vid.close()"
   ]
  },
  {
   "cell_type": "code",
   "execution_count": null,
   "metadata": {},
   "outputs": [],
   "source": [
    "import pandas as pd\n",
    "import matplotlib.pyplot as plt\n",
    "\n",
    "# Load the CSV file\n",
    "csv_path = f\"./train_logs/loss_log_santa_ff_{num_nodes}_{seed}.csv\"\n",
    "data = pd.read_csv(csv_path)\n",
    "\n",
    "# Extract the 'Epoch' and 'Loss' columns\n",
    "epochs = data['Epoch']\n",
    "loss = data['Loss']\n",
    "\n",
    "# Create the plot\n",
    "plt.figure(figsize=(10, 6))\n",
    "plt.plot(epochs, loss, label='Training Loss', color='blue')\n",
    "plt.xlabel('Epochs')\n",
    "plt.ylabel('Loss')\n",
    "plt.title('Training Loss over Epochs')\n",
    "plt.legend()\n",
    "plt.grid(True)\n",
    "plt.show()\n"
   ]
  },
  {
   "cell_type": "code",
   "execution_count": null,
   "metadata": {},
   "outputs": [],
   "source": []
  }
 ],
 "metadata": {
  "kernelspec": {
   "display_name": "rl_env",
   "language": "python",
   "name": "python3"
  },
  "language_info": {
   "codemirror_mode": {
    "name": "ipython",
    "version": 3
   },
   "file_extension": ".py",
   "mimetype": "text/x-python",
   "name": "python",
   "nbconvert_exporter": "python",
   "pygments_lexer": "ipython3",
   "version": "3.9.18"
  },
  "orig_nbformat": 4
 },
 "nbformat": 4,
 "nbformat_minor": 2
}
