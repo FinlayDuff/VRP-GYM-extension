{
 "cells": [
  {
   "attachments": {},
   "cell_type": "markdown",
   "metadata": {},
   "source": [
    "# Import the packages and modules"
   ]
  },
  {
   "cell_type": "code",
   "execution_count": 1,
   "metadata": {},
   "outputs": [],
   "source": [
    "from gym_vrp.envs import SantaIRPEnv\n",
    "from agents import TSPAgentFF\n",
    "\n",
    "import torch\n"
   ]
  },
  {
   "attachments": {},
   "cell_type": "markdown",
   "metadata": {},
   "source": [
    "## Train the agent"
   ]
  },
  {
   "cell_type": "code",
   "execution_count": 2,
   "metadata": {},
   "outputs": [],
   "source": [
    "# Original\n",
    "# batch_size = 256\n",
    "# seed = 69\n",
    "# num_nodes = 20\n",
    "\n",
    "# Quick Test\n",
    "# batch_size = 10\n",
    "# seed = 23\n",
    "# num_nodes = 5\n",
    "\n",
    "batch_size = 64\n",
    "seed = 23\n",
    "num_nodes = 10\n",
    "\n",
    "num_epochs = 251\n",
    "# num_epochs = 251"
   ]
  },
  {
   "cell_type": "code",
   "execution_count": 3,
   "metadata": {},
   "outputs": [],
   "source": [
    "# Instantiate the SantaIRPEnv environment\n",
    "env_santa_irp = SantaIRPEnv(num_nodes=num_nodes, batch_size=batch_size, seed=seed)\n",
    "\n",
    "# Instantiate the TSPAgentFF (assuming it's compatible with SantaIRPEnv)\n",
    "agent_santa_irp = TSPAgentFF(\n",
    "    seed=seed, csv_path=f\"./train_logs/loss_log_santa_irp_{num_nodes}_{seed}.csv\",\n",
    ")\n",
    "# Train the agent\n",
    "agent_santa_irp.train(\n",
    "    env_santa_irp,\n",
    "    epochs=num_epochs,\n",
    "    check_point_dir=f\"./check_points/santa_irp_{num_nodes}_{seed}/\",\n",
    ")"
   ]
  },
  {
   "attachments": {},
   "cell_type": "markdown",
   "metadata": {},
   "source": [
    "## Visualise the actions of the agent in the environments"
   ]
  },
  {
   "cell_type": "code",
   "execution_count": null,
   "metadata": {},
   "outputs": [],
   "source": [
    "#env = SantaIRPEnv(num_nodes=num_nodes, batch_size=batch_size, seed=seed, num_draw=3)\n",
    "env = env_santa_irp\n",
    "TSPModel=f'./check_points/tsp_{num_nodes}_{seed}/model_epoch_{num_epochs-1}.pt'"
   ]
  },
  {
   "cell_type": "code",
   "execution_count": null,
   "metadata": {},
   "outputs": [],
   "source": [
    "# Setup for evaluation\n",
    "env.enable_video_capturing(\n",
    "    video_save_path=f\"./videos/video_test_santa_irp_{num_nodes}_{seed}.mp4\"\n",
    ")"
   ]
  },
  {
   "cell_type": "code",
   "execution_count": null,
   "metadata": {},
   "outputs": [],
   "source": [
    "agent = TSPAgentFF(seed=seed)\n",
    "agent.model.load_state_dict(torch.load(f\"./check_points/santa_irp_{num_nodes}_{seed}/model_epoch_{num_epochs-1}.pt\"))"
   ]
  },
  {
   "cell_type": "code",
   "execution_count": null,
   "metadata": {},
   "outputs": [],
   "source": [
    "# Evaluate the agent\n",
    "loss_a = agent.evaluate(env)"
   ]
  },
  {
   "cell_type": "code",
   "execution_count": null,
   "metadata": {},
   "outputs": [],
   "source": [
    "# Close the video recorder\n",
    "env.vid.close()"
   ]
  },
  {
   "cell_type": "code",
   "execution_count": null,
   "metadata": {},
   "outputs": [],
   "source": [
    "import pandas as pd\n",
    "import matplotlib.pyplot as plt\n",
    "\n",
    "# Load the CSV file\n",
    "csv_path = f\"./train_logs/loss_log_santa_irp_{num_nodes}_{seed}.csv\"\n",
    "data = pd.read_csv(csv_path)\n",
    "\n",
    "# Extract the 'Epoch' and 'Loss' columns\n",
    "epochs = data['Epoch']\n",
    "loss = abs(data['Loss'])*-1\n",
    "\n",
    "# Create the plot\n",
    "plt.figure(figsize=(10, 6))\n",
    "plt.plot(epochs, loss, label='Training Loss', color='blue', marker='o')\n",
    "plt.xlabel('Epochs')\n",
    "plt.ylabel('Loss')\n",
    "plt.title('Training Loss over Epochs')\n",
    "plt.legend()\n",
    "plt.grid(True)\n",
    "plt.show()\n"
   ]
  },
  {
   "cell_type": "code",
   "execution_count": null,
   "metadata": {},
   "outputs": [],
   "source": []
  }
 ],
 "metadata": {
  "kernelspec": {
   "display_name": "rl_env",
   "language": "python",
   "name": "python3"
  },
  "language_info": {
   "codemirror_mode": {
    "name": "ipython",
    "version": 3
   },
   "file_extension": ".py",
   "mimetype": "text/x-python",
   "name": "python",
   "nbconvert_exporter": "python",
   "pygments_lexer": "ipython3",
   "version": "3.9.18"
  },
  "orig_nbformat": 4
 },
 "nbformat": 4,
 "nbformat_minor": 2
}
