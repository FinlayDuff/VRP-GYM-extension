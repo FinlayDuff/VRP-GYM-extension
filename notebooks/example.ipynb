{
 "cells": [
  {
   "cell_type": "code",
   "execution_count": 1,
   "metadata": {},
   "outputs": [
    {
     "name": "stdout",
     "output_type": "stream",
     "text": [
      "<DefaultVRPEnv instance>\n"
     ]
    },
    {
     "name": "stderr",
     "output_type": "stream",
     "text": [
      "\n"
     ]
    }
   ],
   "source": [
    "from gym_vrp.envs.vrp import VRPEnv, VRPVariant\n",
    "\n",
    "env = VRPEnv.create(variant=VRPVariant.DEFAULT_VRP)\n"
   ]
  }
 ],
 "metadata": {
  "interpreter": {
   "hash": "916353694c05b0bed1fe8308b7e69d5871a584faf597572c5b22618c7037ecff"
  },
  "kernelspec": {
   "display_name": "Python 3.9.7 ('gym_vrp')",
   "language": "python",
   "name": "python3"
  },
  "language_info": {
   "codemirror_mode": {
    "name": "ipython",
    "version": 3
   },
   "file_extension": ".py",
   "mimetype": "text/x-python",
   "name": "python",
   "nbconvert_exporter": "python",
   "pygments_lexer": "ipython3",
   "version": "3.9.7"
  },
  "orig_nbformat": 4
 },
 "nbformat": 4,
 "nbformat_minor": 2
}
